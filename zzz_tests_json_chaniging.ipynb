{
 "cells": [
  {
   "cell_type": "code",
   "execution_count": 1,
   "id": "84aa39a3",
   "metadata": {},
   "outputs": [
    {
     "name": "stdout",
     "output_type": "stream",
     "text": [
      "Jupyter environment detected. Enabling Open3D WebVisualizer.\n",
      "[Open3D INFO] WebRTC GUI backend enabled.\n",
      "[Open3D INFO] WebRTCWindowSystem: HTTP handshake server disabled.\n"
     ]
    }
   ],
   "source": [
    "import numpy as np\n",
    "import open3d as o3d\n",
    "import json\n",
    "from collections import defaultdict\n",
    "\n",
    "Tooth_order = [48, 47, 46, 45, 44, 43, 42, 41, 31, 32, 33, 34, 35, 36, 37, 38]"
   ]
  },
  {
   "cell_type": "code",
   "execution_count": null,
   "metadata": {},
   "outputs": [],
   "source": [
    "def read_ply_file(ply_path):\n",
    "    \"\"\"\n",
    "    Read PLY file and preserve vertex ordering\n",
    "    \"\"\"\n",
    "    mesh = o3d.io.read_triangle_mesh(ply_path)\n",
    "    vertices = np.asarray(mesh.vertices)\n",
    "    faces = np.asarray(mesh.triangles) + 1  # Add 1 to match OBJ 1-based indexing\n",
    "    \n",
    "    if mesh.has_vertex_colors():\n",
    "        rgb = np.asarray(mesh.vertex_colors)\n",
    "    else:\n",
    "        rgb = np.full((len(vertices), 3), 0.501)\n",
    "    \n",
    "    print(f\"Read PLY file: {len(vertices)} vertices, {len(faces)} faces\")\n",
    "    return vertices, rgb, faces\n",
    "\n",
    "def validate_fdi(fdi):\n",
    "    \"\"\"Validate if FDI number is in expected tooth order\"\"\"\n",
    "    try:\n",
    "        fdi_num = int(float(fdi))  # Handle both string and float FDI numbers\n",
    "        return fdi_num in Tooth_order\n",
    "    except (ValueError, TypeError):\n",
    "        return False\n",
    "\n",
    "def process_jaw_ply_files(lower_ply_path, upper_ply_path, labels_json_path=None):\n",
    "    \"\"\"\n",
    "    Process jaw PLY files and maintain spatial relationships\n",
    "    \"\"\"\n",
    "    # Convert PLY files to OBJ format\n",
    "    lower_obj_path = lower_ply_path.replace('.ply', '.obj')\n",
    "    upper_obj_path = upper_ply_path.replace('.ply', '.obj')\n",
    "    \n",
    "    # Get vertex count while converting\n",
    "    lower_obj_path, vertex_count = convert_ply_to_obj(lower_ply_path, lower_obj_path)\n",
    "    convert_ply_to_obj(upper_ply_path, upper_obj_path)\n",
    "    \n",
    "    if labels_json_path:\n",
    "        try:\n",
    "            with open(labels_json_path, 'r') as f:\n",
    "                labels_data = json.load(f)\n",
    "            \n",
    "            # Initialize labels array\n",
    "            fdi_labels = np.zeros(vertex_count, dtype=int)\n",
    "            \n",
    "            # Handle the JSON format\n",
    "            if isinstance(labels_data, dict):\n",
    "                if \"labels\" in labels_data:\n",
    "                    # Direct label format\n",
    "                    input_labels = labels_data[\"labels\"][:vertex_count]\n",
    "                    for i, label in enumerate(input_labels):\n",
    "                        if validate_fdi(label):\n",
    "                            fdi_labels[i] = int(float(label))\n",
    "                elif \"cells\" in labels_data:\n",
    "                    # Cell-based format\n",
    "                    cells = labels_data[\"cells\"]\n",
    "                    for cell in cells:\n",
    "                        fdi = cell.get(\"fdi\")\n",
    "                        if not validate_fdi(fdi):\n",
    "                            continue\n",
    "                        vertices = cell.get(\"vertices\", [])\n",
    "                        for vertex_idx in vertices:\n",
    "                            if vertex_idx < vertex_count:\n",
    "                                fdi_labels[vertex_idx] = int(float(fdi))\n",
    "            \n",
    "            # Create output in the same format\n",
    "            converted_labels = {\n",
    "                \"jaw\": \"lower\",\n",
    "                \"number_of_teeth\": vertex_count,\n",
    "                \"labels\": fdi_labels.tolist()\n",
    "            }\n",
    "            \n",
    "            # Save processed labels\n",
    "            output_json_path = lower_obj_path.replace('.obj', '.json')\n",
    "            with open(output_json_path, 'w') as f:\n",
    "                json.dump(converted_labels, f)\n",
    "            \n",
    "            # Print statistics\n",
    "            valid_fdis = sorted(set(fdi for fdi in fdi_labels if fdi != 0))\n",
    "            print(f\"\\nProcessed {len(fdi_labels)} labels for {vertex_count} vertices\")\n",
    "            print(f\"Valid FDI numbers found: {valid_fdis}\")\n",
    "            \n",
    "            # Print vertex distribution\n",
    "            print(\"\\nVertex distribution per tooth:\")\n",
    "            total_labeled = 0\n",
    "            for fdi in Tooth_order:\n",
    "                count = np.sum(fdi_labels == fdi)\n",
    "                if count > 0:\n",
    "                    print(f\"Tooth {fdi}: {count} vertices\")\n",
    "                    total_labeled += count\n",
    "            \n",
    "            print(f\"\\nTotal labeled vertices: {total_labeled}\")\n",
    "            print(f\"Unlabeled vertices: {vertex_count - total_labeled}\")\n",
    "            \n",
    "        except Exception as e:\n",
    "            print(f\"Error processing JSON file: {str(e)}\")\n",
    "            import traceback\n",
    "            traceback.print_exc()\n",
    "            raise\n",
    "    \n",
    "    return lower_obj_path, upper_obj_path\n",
    "\n",
    "def convert_ply_to_obj(ply_path, obj_path):\n",
    "    \"\"\"\n",
    "    Convert PLY to OBJ format while preserving vertex order\n",
    "    \"\"\"\n",
    "    vertices, rgb, faces = read_ply_file(ply_path)\n",
    "    vertex_count = len(vertices)\n",
    "    \n",
    "    with open(obj_path, 'w') as f:\n",
    "        # Write vertices with RGB values\n",
    "        for v, c in zip(vertices, rgb):\n",
    "            f.write(f\"v {v[0]} {v[1]} {v[2]} {c[0]} {c[1]} {c[2]}\\n\")\n",
    "        \n",
    "        # Write faces (PLY uses 0-based indices, OBJ uses 1-based)\n",
    "        for face in faces:\n",
    "            f.write(f\"f {face[0]} {face[1]} {face[2]}\\n\")\n",
    "    \n",
    "    return obj_path, vertex_count\n"
   ]
  },
  {
   "cell_type": "code",
   "execution_count": null,
   "id": "ebcb14f0",
   "metadata": {},
   "outputs": [],
   "source": [
    "# upper_ply_path = \"upper_jaw_2.ply\"\n",
    "lower_ply_path = \"lower_jaw_2.ply\"\n",
    "labels_json_path = \"lower_jaw_2.json\""
   ]
  },
  {
   "cell_type": "code",
   "execution_count": 4,
   "metadata": {},
   "outputs": [
    {
     "name": "stdout",
     "output_type": "stream",
     "text": [
      "Read PLY file: 72958 vertices, 144582 faces\n",
      "Read PLY file: 60704 vertices, 120868 faces\n"
     ]
    }
   ],
   "source": [
    "a,b = process_jaw_ply_files(lower_ply_path, upper_ply_path, labels_json_path=None)"
   ]
  },
  {
   "cell_type": "code",
   "execution_count": 5,
   "metadata": {},
   "outputs": [
    {
     "data": {
      "text/plain": [
       "'lower_jaw_2.obj'"
      ]
     },
     "execution_count": 5,
     "metadata": {},
     "output_type": "execute_result"
    }
   ],
   "source": [
    "a"
   ]
  },
  {
   "cell_type": "code",
   "execution_count": 6,
   "metadata": {},
   "outputs": [
    {
     "data": {
      "text/plain": [
       "'upper_jaw_2.obj'"
      ]
     },
     "execution_count": 6,
     "metadata": {},
     "output_type": "execute_result"
    }
   ],
   "source": [
    "b"
   ]
  },
  {
   "cell_type": "code",
   "execution_count": null,
   "metadata": {},
   "outputs": [],
   "source": []
  },
  {
   "cell_type": "code",
   "execution_count": null,
   "metadata": {},
   "outputs": [],
   "source": []
  },
  {
   "cell_type": "code",
   "execution_count": null,
   "metadata": {},
   "outputs": [],
   "source": []
  },
  {
   "cell_type": "code",
   "execution_count": null,
   "metadata": {},
   "outputs": [],
   "source": []
  },
  {
   "cell_type": "code",
   "execution_count": null,
   "metadata": {},
   "outputs": [],
   "source": []
  },
  {
   "cell_type": "code",
   "execution_count": null,
   "id": "9bb06fa3",
   "metadata": {},
   "outputs": [],
   "source": []
  },
  {
   "cell_type": "code",
   "execution_count": null,
   "id": "f9e067a9",
   "metadata": {},
   "outputs": [],
   "source": []
  },
  {
   "cell_type": "code",
   "execution_count": null,
   "metadata": {},
   "outputs": [],
   "source": []
  },
  {
   "cell_type": "code",
   "execution_count": null,
   "metadata": {},
   "outputs": [],
   "source": []
  }
 ],
 "metadata": {
  "kernelspec": {
   "display_name": ".venv",
   "language": "python",
   "name": "python3"
  },
  "language_info": {
   "codemirror_mode": {
    "name": "ipython",
    "version": 3
   },
   "file_extension": ".py",
   "mimetype": "text/x-python",
   "name": "python",
   "nbconvert_exporter": "python",
   "pygments_lexer": "ipython3",
   "version": "3.10.12"
  }
 },
 "nbformat": 4,
 "nbformat_minor": 5
}
