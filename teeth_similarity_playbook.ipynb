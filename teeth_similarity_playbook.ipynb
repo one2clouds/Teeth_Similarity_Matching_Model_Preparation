{
 "cells": [
  {
   "cell_type": "code",
   "execution_count": null,
   "id": "459f4ab0",
   "metadata": {},
   "outputs": [],
   "source": [
    "import os\n",
    "import open3d as o3d\n",
    "from pathlib import Path \n",
    "import glob \n",
    "from scipy.sparse import csr_matrix \n",
    "from scipy.sparse.csgraph import connected_components\n",
    "\n",
    "from src.similarity_search import SimilaritySearch\n",
    "from src.extract_individual_teeth import extract_teeth\n",
    "\n",
    "import glob \n",
    "\n",
    "import numpy as np \n",
    "import plotly.graph_objects as go"
   ]
  },
  {
   "cell_type": "code",
   "execution_count": null,
   "id": "6889bb1e",
   "metadata": {},
   "outputs": [],
   "source": [
    "mesh_folder_paths = glob.glob(\"/home/shirshak/teeth_similarity_playbook_api/original_data/0AAQ6BO3/*\")      #input path of the original raw data, no colored, having labels in json files\n",
    "outdir = \"/home/shirshak/teeth_similarity_playbook_api/individual_teeth/\"       #output folder of the indivial teeth\n",
    "\n",
    "for mesh_folder_path in mesh_folder_paths:\n",
    "    # print(mesh_folder_path)\n",
    "    extract_teeth(mesh_folder_path, os.path.join(outdir))"
   ]
  },
  {
   "cell_type": "code",
   "execution_count": null,
   "id": "92c8cc12",
   "metadata": {},
   "outputs": [],
   "source": [
    "left_tooth = 14\n",
    "right_tooth = 16\n",
    "opposite_tooth = 45"
   ]
  },
  {
   "cell_type": "code",
   "execution_count": null,
   "id": "c1f68faf",
   "metadata": {},
   "outputs": [],
   "source": [
    "left_tooth_path, right_tooth_path, opposite_tooth_path = \"\", \"\", \"\"\n",
    "for file_name in sorted(glob.glob(\"/home/shirshak/teeth_similarity_playbook_api/individual_teeth/*\")):\n",
    "\n",
    "    label = int(file_name.split(\"/\")[-1].split(\".obj\")[0].split(\"fid\")[-1])\n",
    "\n",
    "    if label == left_tooth:\n",
    "        left_tooth_path = file_name\n",
    "    \n",
    "    if  label == right_tooth:\n",
    "        right_tooth_path = file_name\n",
    "\n",
    "    if label == opposite_tooth:\n",
    "        opposite_tooth_path = file_name"
   ]
  },
  {
   "cell_type": "code",
   "execution_count": null,
   "id": "92fc63fe",
   "metadata": {},
   "outputs": [],
   "source": [
    "assert left_tooth_path != \"\" and right_tooth_path != \"\" and opposite_tooth_path != \"\""
   ]
  },
  {
   "cell_type": "code",
   "execution_count": null,
   "id": "89255e48",
   "metadata": {},
   "outputs": [],
   "source": [
    "teeth_paths = teeth_paths = [left_tooth_path, right_tooth_path, opposite_tooth_path]\n",
    "tooth_labels = [left_tooth, right_tooth, opposite_tooth]"
   ]
  },
  {
   "cell_type": "code",
   "execution_count": null,
   "id": "a98530de",
   "metadata": {},
   "outputs": [],
   "source": [
    "similarity_search = SimilaritySearch()\n",
    "pid, fid_and_similarity_score, dice_dict =  similarity_search.get_similarity_multiple_teeth(teeth_paths, tooth_labels)"
   ]
  },
  {
   "cell_type": "code",
   "execution_count": null,
   "id": "bb9e4734",
   "metadata": {},
   "outputs": [],
   "source": [
    "pid"
   ]
  },
  {
   "cell_type": "code",
   "execution_count": null,
   "id": "9a745330",
   "metadata": {},
   "outputs": [],
   "source": [
    "fid_and_similarity_score"
   ]
  },
  {
   "cell_type": "code",
   "execution_count": null,
   "id": "28065f3b",
   "metadata": {},
   "outputs": [],
   "source": [
    "dice_dict"
   ]
  },
  {
   "cell_type": "code",
   "execution_count": null,
   "id": "0360809e",
   "metadata": {},
   "outputs": [],
   "source": [
    "fid_and_similarity_score[0][0]"
   ]
  },
  {
   "cell_type": "code",
   "execution_count": null,
   "id": "2639fcb3",
   "metadata": {},
   "outputs": [],
   "source": [
    "fid_and_similarity_score[1][0]"
   ]
  },
  {
   "cell_type": "code",
   "execution_count": null,
   "id": "f8ddc3a7",
   "metadata": {},
   "outputs": [],
   "source": [
    "left_tooth_category = \"upper\" if int(fid_and_similarity_score[0][0].split(\"fid\")[-1]) < 30 else \"lower\"\n",
    "right_tooth_category = \"upper\" if int(fid_and_similarity_score[1][0].split(\"fid\")[-1]) < 30 else \"lower\"\n",
    "opposite_tooth_category = \"upper\" if int(fid_and_similarity_score[2][0].split(\"fid\")[-1]) < 30 else \"lower\""
   ]
  },
  {
   "cell_type": "code",
   "execution_count": null,
   "id": "1b15a99b",
   "metadata": {},
   "outputs": [],
   "source": [
    "left_tooth_category, right_tooth_category, opposite_tooth_category"
   ]
  },
  {
   "cell_type": "code",
   "execution_count": null,
   "id": "873e5886",
   "metadata": {},
   "outputs": [],
   "source": [
    "left_similar_teeth = f\"/home/shirshak/Teeth3DS_individual_teeth/individual_teeth/{pid}_{left_tooth_category}_{fid_and_similarity_score[0][0]}.obj\"\n",
    "right_similar_teeth = f\"/home/shirshak/Teeth3DS_individual_teeth/individual_teeth/{pid}_{right_tooth_category}_{fid_and_similarity_score[1][0]}.obj\"\n",
    "opposite_similar_teeth = f\"/home/shirshak/Teeth3DS_individual_teeth/individual_teeth/{pid}_{opposite_tooth_category}_{fid_and_similarity_score[2][0]}.obj\""
   ]
  },
  {
   "cell_type": "code",
   "execution_count": null,
   "id": "93861f77",
   "metadata": {},
   "outputs": [],
   "source": [
    "similar_teeth_paths = [left_similar_teeth, right_similar_teeth, opposite_similar_teeth]\n",
    "similar_teeth_paths"
   ]
  },
  {
   "cell_type": "code",
   "execution_count": null,
   "id": "ad6a70b1",
   "metadata": {},
   "outputs": [],
   "source": [
    "teeth_paths"
   ]
  },
  {
   "cell_type": "code",
   "execution_count": null,
   "id": "d48c32bb",
   "metadata": {},
   "outputs": [],
   "source": []
  },
  {
   "cell_type": "code",
   "execution_count": null,
   "id": "8497819f",
   "metadata": {},
   "outputs": [],
   "source": [
    "def visualize_teeth_comparison(original_path, similar_path, title):\n",
    "    \"\"\"\n",
    "    Visualize two teeth meshes side by side using Plotly with visible coordinate axes.\n",
    "    \n",
    "    Args:\n",
    "        original_path: Path to original tooth mesh\n",
    "        similar_path: Path to similar tooth mesh\n",
    "        title: Title for the visualization\n",
    "    \"\"\"\n",
    "    import open3d as o3d\n",
    "    import numpy as np\n",
    "    import plotly.graph_objects as go\n",
    "    \n",
    "    original_mesh = o3d.io.read_triangle_mesh(original_path)\n",
    "    similar_mesh = o3d.io.read_triangle_mesh(similar_path)\n",
    "    original_vertices = np.asarray(original_mesh.vertices)\n",
    "    original_triangles = np.asarray(original_mesh.triangles)\n",
    "    \n",
    "    similar_vertices = np.asarray(similar_mesh.vertices)\n",
    "    similar_triangles = np.asarray(similar_mesh.triangles)\n",
    "    \n",
    "    fig = go.Figure()\n",
    "    \n",
    "    # Add original mesh with a blue color\n",
    "    fig.add_trace(go.Mesh3d(\n",
    "        x=original_vertices[:, 0],\n",
    "        y=original_vertices[:, 1],\n",
    "        z=original_vertices[:, 2],\n",
    "        i=original_triangles[:, 0],\n",
    "        j=original_triangles[:, 1],\n",
    "        k=original_triangles[:, 2],\n",
    "        color='#1f77b4',  # Blue color\n",
    "        opacity=0.9,\n",
    "        name=\"Original Tooth\"\n",
    "    ))\n",
    "    \n",
    "    # Calculate offset for the similar mesh\n",
    "    offset = [np.max(original_vertices[:, 0]) - np.min(similar_vertices[:, 0]) + 5, 0, 0]\n",
    "    \n",
    "    # Add similar mesh with a red color (offset to the right)\n",
    "    fig.add_trace(go.Mesh3d(\n",
    "        x=similar_vertices[:, 0] + offset[0],\n",
    "        y=similar_vertices[:, 1] + offset[1],\n",
    "        z=similar_vertices[:, 2] + offset[2],\n",
    "        i=similar_triangles[:, 0],\n",
    "        j=similar_triangles[:, 1],\n",
    "        k=similar_triangles[:, 2],\n",
    "        color='#d62728',  # Red color\n",
    "        opacity=0.9,\n",
    "        name=\"Similar Tooth\"\n",
    "    ))\n",
    "    \n",
    "    # Calculate global min and max for axis scaling\n",
    "    all_vertices = np.vstack([\n",
    "        original_vertices,\n",
    "        similar_vertices + np.array(offset)\n",
    "    ])\n",
    "    \n",
    "    x_min, y_min, z_min = np.min(all_vertices, axis=0)\n",
    "    x_max, y_max, z_max = np.max(all_vertices, axis=0)\n",
    "    \n",
    "    # Add some padding\n",
    "    padding = max(x_max - x_min, y_max - y_min, z_max - z_min) * 0.1\n",
    "    \n",
    "    # Update layout with visible axes\n",
    "    fig.update_layout(\n",
    "        scene=dict(\n",
    "            xaxis=dict(\n",
    "                visible=True,\n",
    "                showbackground=True,\n",
    "                backgroundcolor=\"rgb(230, 230, 230)\",\n",
    "                showgrid=True,\n",
    "                showticklabels=True,\n",
    "                title=\"X Axis\",\n",
    "                range=[x_min - padding, x_max + padding]\n",
    "            ),\n",
    "            yaxis=dict(\n",
    "                visible=True,\n",
    "                showbackground=True,\n",
    "                backgroundcolor=\"rgb(230, 230, 230)\",\n",
    "                showgrid=True,\n",
    "                showticklabels=True,\n",
    "                title=\"Y Axis\",\n",
    "                range=[y_min - padding, y_max + padding]\n",
    "            ),\n",
    "            zaxis=dict(\n",
    "                visible=True,\n",
    "                showbackground=True,\n",
    "                backgroundcolor=\"rgb(230, 230, 230)\",\n",
    "                showgrid=True,\n",
    "                showticklabels=True,\n",
    "                title=\"Z Axis\",\n",
    "                range=[z_min - padding, z_max + padding]\n",
    "            ),\n",
    "            aspectmode='data'  # Maintain data aspect ratio\n",
    "        ),\n",
    "        title=title,\n",
    "        scene_camera=dict(\n",
    "            eye=dict(x=1.5, y=1.5, z=1.5)\n",
    "        ),\n",
    "        legend=dict(\n",
    "            x=0.7,\n",
    "            y=0.9\n",
    "        )\n",
    "    )\n",
    "    \n",
    "    # Add X, Y, Z axis arrow indicators for better orientation\n",
    "    axis_length = max(x_max - x_min, y_max - y_min, z_max - z_min) * 0.15\n",
    "    origin = [x_min - padding/2, y_min - padding/2, z_min - padding/2]\n",
    "    \n",
    "    # X-axis arrow (red)\n",
    "    fig.add_trace(go.Scatter3d(\n",
    "        x=[origin[0], origin[0] + axis_length],\n",
    "        y=[origin[1], origin[1]],\n",
    "        z=[origin[2], origin[2]],\n",
    "        mode='lines+text',\n",
    "        line=dict(color='red', width=5),\n",
    "        text=['', 'X'],\n",
    "        textposition='middle right',\n",
    "        showlegend=False\n",
    "    ))\n",
    "    \n",
    "    # Y-axis arrow (green)\n",
    "    fig.add_trace(go.Scatter3d(\n",
    "        x=[origin[0], origin[0]],\n",
    "        y=[origin[1], origin[1] + axis_length],\n",
    "        z=[origin[2], origin[2]],\n",
    "        mode='lines+text',\n",
    "        line=dict(color='green', width=5),\n",
    "        text=['', 'Y'],\n",
    "        textposition='middle right',\n",
    "        showlegend=False\n",
    "    ))\n",
    "    \n",
    "    # Z-axis arrow (blue)\n",
    "    fig.add_trace(go.Scatter3d(\n",
    "        x=[origin[0], origin[0]],\n",
    "        y=[origin[1], origin[1]],\n",
    "        z=[origin[2], origin[2] + axis_length],\n",
    "        mode='lines+text',\n",
    "        line=dict(color='blue', width=5),\n",
    "        text=['', 'Z'],\n",
    "        textposition='middle right',\n",
    "        showlegend=False\n",
    "    ))\n",
    "    \n",
    "    fig.show()"
   ]
  },
  {
   "cell_type": "code",
   "execution_count": null,
   "id": "40653b20",
   "metadata": {},
   "outputs": [],
   "source": [
    "def visualize_all_teeth_comparisons(teeth_paths, similar_teeth_paths):\n",
    "    \"\"\"\n",
    "    Visualize all pairs of teeth (original and similar).\n",
    "    \n",
    "    Args:\n",
    "        teeth_paths: List of paths to original teeth\n",
    "        similar_teeth_paths: List of paths to similar teeth\n",
    "    \"\"\"\n",
    "    # Names for visualization based on the file paths\n",
    "    names = [\"Left\", \"Right\", \"Opposite\"]\n",
    "    \n",
    "    # Visualize each pair of teeth\n",
    "    for i, (original_path, similar_path, name) in enumerate(zip(teeth_paths, similar_teeth_paths, names)):\n",
    "        title = f\"{name} Tooth Comparison\"\n",
    "        visualize_teeth_comparison(original_path, similar_path, title)\n",
    "        break"
   ]
  },
  {
   "cell_type": "code",
   "execution_count": null,
   "id": "620cdc13",
   "metadata": {},
   "outputs": [],
   "source": [
    "teeth_paths"
   ]
  },
  {
   "cell_type": "code",
   "execution_count": null,
   "id": "9e72cf39",
   "metadata": {},
   "outputs": [],
   "source": [
    "similar_teeth_paths"
   ]
  },
  {
   "cell_type": "code",
   "execution_count": null,
   "id": "63af293f",
   "metadata": {},
   "outputs": [],
   "source": [
    "visualize_all_teeth_comparisons(teeth_paths, similar_teeth_paths)"
   ]
  },
  {
   "cell_type": "code",
   "execution_count": null,
   "id": "d25e8a45",
   "metadata": {},
   "outputs": [],
   "source": []
  },
  {
   "cell_type": "code",
   "execution_count": null,
   "metadata": {},
   "outputs": [],
   "source": []
  },
  {
   "cell_type": "code",
   "execution_count": null,
   "metadata": {},
   "outputs": [],
   "source": []
  }
 ],
 "metadata": {
  "kernelspec": {
   "display_name": "extra_download",
   "language": "python",
   "name": "python3"
  },
  "language_info": {
   "codemirror_mode": {
    "name": "ipython",
    "version": 3
   },
   "file_extension": ".py",
   "mimetype": "text/x-python",
   "name": "python",
   "nbconvert_exporter": "python",
   "pygments_lexer": "ipython3",
   "version": "3.13.2"
  }
 },
 "nbformat": 4,
 "nbformat_minor": 5
}
